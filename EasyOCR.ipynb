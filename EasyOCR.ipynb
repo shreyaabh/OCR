{
 "cells": [
  {
   "cell_type": "code",
   "execution_count": 5,
   "id": "3b0ef05f",
   "metadata": {},
   "outputs": [],
   "source": [
    "import easyocr\n",
    "import cv2\n",
    "from matplotlib import pyplot as plt\n",
    "import numpy as np"
   ]
  },
  {
   "cell_type": "code",
   "execution_count": 8,
   "id": "ecb81b9f",
   "metadata": {},
   "outputs": [],
   "source": [
    "IMAGE_PATH = './images/pan1.jpg'"
   ]
  },
  {
   "cell_type": "code",
   "execution_count": null,
   "id": "d94c0814",
   "metadata": {},
   "outputs": [
    {
     "name": "stderr",
     "output_type": "stream",
     "text": [
      "CUDA not available - defaulting to CPU. Note: This module is much faster with a GPU.\n"
     ]
    }
   ],
   "source": [
    "reader = easyocr.Reader(['en','ne'])\n",
    "result = reader.readtext(IMAGE_PATH)\n",
    "result"
   ]
  },
  {
   "cell_type": "code",
   "execution_count": null,
   "id": "f0abad41",
   "metadata": {},
   "outputs": [],
   "source": [
    "result[0]"
   ]
  },
  {
   "cell_type": "code",
   "execution_count": null,
   "id": "fd56c954",
   "metadata": {},
   "outputs": [],
   "source": [
    "top_left = tuple(result[0][0][0])\n",
    "bottom_right = tuple(result[0][0][2])\n",
    "text = result[0][1]\n",
    "font = cv2.FONT_HERSHEY_SIMPLEX"
   ]
  },
  {
   "cell_type": "code",
   "execution_count": null,
   "id": "80ebe534",
   "metadata": {},
   "outputs": [],
   "source": [
    "for i in result:\n",
    "    print(result)\n"
   ]
  },
  {
   "cell_type": "code",
   "execution_count": null,
   "id": "ce92f833",
   "metadata": {},
   "outputs": [],
   "source": [
    "img = cv2.imread(IMAGE_PATH)\n",
    "img = cv2.rectangle(img,top_left,bottom_right,(0,255,0),5)\n",
    "img = cv2.putText(img,text,top_left, font, 0.5,(255,255,255),2,cv2.LINE_AA)\n",
    "plt.imshow(img)\n",
    "plt.show()"
   ]
  },
  {
   "cell_type": "code",
   "execution_count": null,
   "id": "4c328aae",
   "metadata": {},
   "outputs": [],
   "source": [
    "img = cv2.imread(IMAGE_PATH)\n",
    "spacer = 100\n",
    "for detection in result: \n",
    "    top_left = tuple([int(val) for val in detection[0][0]])\n",
    "    bottom_right = tuple([int(val) for val in detection[0][2]])\n",
    "    text = detection[1]\n",
    "    font=cv2.FONT_HERSHEY_SIMPLEX\n",
    "    img = cv2.rectangle(img,top_left,bottom_right,(255,0,0),5)\n",
    "    img = cv2.putText(img,text,(20,spacer), font, 0.5,(255,0,0),2,cv2.LINE_AA)\n",
    "    \n",
    "plt.figure(figsize=(10,10))   \n",
    "plt.imshow(img)\n",
    "plt.show()"
   ]
  },
  {
   "cell_type": "code",
   "execution_count": null,
   "id": "b8f19b3d",
   "metadata": {},
   "outputs": [],
   "source": [
    "# import glob\n",
    "# import pandas as pd\n",
    "# imga = cv2.imread('pan1.jpg')"
   ]
  },
  {
   "cell_type": "code",
   "execution_count": null,
   "id": "4dbf746e",
   "metadata": {},
   "outputs": [],
   "source": [
    "# results = reader.readtext(imga, detail=1, paragraph=False)"
   ]
  },
  {
   "cell_type": "code",
   "execution_count": null,
   "id": "1f28f3c1",
   "metadata": {},
   "outputs": [],
   "source": [
    "# for (bbox, text, prob) in results:\n",
    "    \n",
    "#     #Define bounding boxes\n",
    "#     (tl, tr, br, bl) = bbox\n",
    "#     tl = (int(tl[0]), int(tl[1]))\n",
    "#     tr = (int(tr[0]), int(tr[1]))\n",
    "#     br = (int(br[0]), int(br[1]))\n",
    "#     bl = (int(bl[0]), int(bl[1]))\n",
    "    \n",
    "#     #Remove non-ASCII characters to display clean text on the image (using opencv)\n",
    "#     text = \"\".join([c if ord(c) < 128 else \"\" for c in text]).strip()\n",
    "   \n",
    "#     #Put rectangles and text on the image\n",
    "#     cv2.rectangle(imga, tl, br, (0, 255, 0), 2)\n",
    "#     cv2.putText(imga, text, (tl[0], tl[1] - 10), \n",
    "#                 cv2.FONT_HERSHEY_SIMPLEX, 0.8, (0, 255, 0), 2)\n",
    "# plt.imshow(img)\n"
   ]
  },
  {
   "cell_type": "code",
   "execution_count": null,
   "id": "f2ee2435",
   "metadata": {},
   "outputs": [],
   "source": [
    "# path = \"images/english/*.*\"\n",
    "# img_number = 1 \n",
    "# reader = easyocr.Reader(['en','ne'])"
   ]
  },
  {
   "cell_type": "code",
   "execution_count": null,
   "id": "1157fdf8",
   "metadata": {},
   "outputs": [],
   "source": [
    "# df=pd.DataFrame()\n",
    "# for file in glob.glob(path):\n",
    "#     print(file)     \n",
    "#     img= cv2.imread(file, 0) \n",
    "#     results = reader.readtext(img, detail=0, paragraph=True)\n",
    "#     df = df.append(pd.DataFrame({'image': file, 'detected_text': results[0]}, index=[0]), ignore_index=True)\n",
    "#     img_number +=1  "
   ]
  },
  {
   "cell_type": "code",
   "execution_count": null,
   "id": "0a089217",
   "metadata": {},
   "outputs": [],
   "source": []
  },
  {
   "cell_type": "code",
   "execution_count": null,
   "id": "c8307094",
   "metadata": {},
   "outputs": [],
   "source": []
  },
  {
   "cell_type": "code",
   "execution_count": null,
   "id": "f75b48b2",
   "metadata": {},
   "outputs": [],
   "source": []
  }
 ],
 "metadata": {
  "kernelspec": {
   "display_name": "Python 3",
   "language": "python",
   "name": "python3"
  },
  "language_info": {
   "codemirror_mode": {
    "name": "ipython",
    "version": 3
   },
   "file_extension": ".py",
   "mimetype": "text/x-python",
   "name": "python",
   "nbconvert_exporter": "python",
   "pygments_lexer": "ipython3",
   "version": "3.9.2"
  }
 },
 "nbformat": 4,
 "nbformat_minor": 5
}
